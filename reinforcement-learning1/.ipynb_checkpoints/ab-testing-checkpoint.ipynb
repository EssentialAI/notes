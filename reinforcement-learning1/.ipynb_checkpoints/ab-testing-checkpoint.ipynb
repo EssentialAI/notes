{
 "cells": [
  {
   "cell_type": "markdown",
   "id": "5dbaae4b",
   "metadata": {},
   "source": [
    "# A/B/n testing using online advertising scenario\n",
    "\n",
    "Consider a company that wants to advertise a product on various websites through digital banners, aiming to attract visitors to the product landing page. Among multiple alternatives, the advertiser company wants to find out which banner is the most effective and has the maximum **click-through rate (CTR)**, which is defined as the total number of clicks an ad receives divided by the total number of impressions (number of times it is shown).\n",
    "\n",
    "Every time a banner is about to be shown on a website, it is the advertiser's algorithm that chooses the banner (for example, through an API provided by the advertiser to the website) and observes whether the impression has resulted in a click or not. This is a great use case for a MAB model, which could boost clicks and product sales. What we want the MAB model to do is toidentify the ad that performs the best as early as possible, display it more, and write off the ad(s) that is (are) a clear loser(s) as early as possible.\n",
    "\n",
    ":::{tip}\n",
    "The probability of observing a click or no click after an impression, a binary outcome, can be modeled using the Bernoulli distribution. It has a single parameter, , which is the probability of receiving a click, or more generally, observing a 1 as opposed to a 0. Note that this is a discrete probability distribution, whereas the normal distribution we used earlier is a continuous one.\n",
    ":::\n",
    "\n",
    "In the [previous page](mab-code.ipynb), we had rewards coming from a normal (Gaussian) distribution. In the online ad case, we have a binary outcome. For each ad version, there is a different probability of click (CTR), which the advertiser does not know but is trying to discover. So, the rewards will come from different **Bernoulli distributions** for each ad. Let's code these to use with our algorithms later:"
   ]
  },
  {
   "cell_type": "markdown",
   "id": "195bf1eb",
   "metadata": {},
   "source": [
    "**1. We start by creating a class to model the ad behavior:**"
   ]
  },
  {
   "cell_type": "code",
   "execution_count": 5,
   "id": "90102036",
   "metadata": {},
   "outputs": [],
   "source": [
    "import numpy as np\n",
    "\n",
    "class BernoulliBandit(object):\n",
    "    def __init__(self, p):\n",
    "        self.p = p\n",
    "    \n",
    "    def display_ad(self):\n",
    "        reward = np.random.binomial(n=1, p=self.p)\n",
    "        return reward"
   ]
  },
  {
   "cell_type": "markdown",
   "id": "71143f73",
   "metadata": {},
   "source": [
    "**2. Now, let's create five different ads (banners) with the corresponding CTRs we arbitrarily pick:**"
   ]
  },
  {
   "cell_type": "code",
   "execution_count": 6,
   "id": "01d95853",
   "metadata": {},
   "outputs": [],
   "source": [
    "adA = BernoulliBandit(0.004)\n",
    "adB = BernoulliBandit(0.016)\n",
    "adC = BernoulliBandit(0.02)\n",
    "adD = BernoulliBandit(0.028)\n",
    "adE = BernoulliBandit(0.031)\n",
    "\n",
    "ads = [adA, adB, adC, adD, adE]"
   ]
  },
  {
   "cell_type": "markdown",
   "id": "d9069619",
   "metadata": {},
   "source": [
    "Let's code exploration strategy for the above ads and try to estimate the probabilities of reward for each online ad."
   ]
  },
  {
   "cell_type": "markdown",
   "id": "907e1950",
   "metadata": {},
   "source": [
    "# A/B/n testing\n",
    "\n",
    "One of the most common exploration strategies is what is called A/B testing, which is a method to determine which one of the two alternatives (of online products, pages, ads, and so on) performs better. In this type of testing, the users are randomly split into two groups to try different alternatives. At the end of the testing period, the results are compared to choose the best alternative, which is then used in production for the rest of the problem horizon. In our case, we have more than two ad versions. So, we will implement what is called A/B/n testing.\n",
    "\n",
    "We will use A/B/n testing as our baseline strategy for comparison with the more advanced methods that we will introduce afterward. Before going into the implementation, we need to define some notation that we will use throughout the chapter.\n",
    "\n",
    "## Notation\n",
    "\n",
    "Throughout the implementations of various algorithms, we will need to keep track of some quantities related to a particular action (the ad chosen for display), $a$. Now, we define some notation for those quantities. Initially, we drop $a$ from our notation for brevity, but at the end of this section, we will put it back:\n",
    "\n",
    "* First, we denote the reward (that is, 1 for a click, 0 for no click) received after selecting the action, $a$, for the $i^{th}$ time by $R_i$.\n",
    "\n",
    "* The average reward observed before the $n^{th}$ selection of this same action is defined as follows:\n",
    "\n",
    "$$Q_n = \\frac{R_1 + R_2 + R_3 + ... + R_{n-1}}{n-1}$$\n",
    "\n",
    "This estimates the expected value of the reward that this action yields, $R$, after $n-1$ observations.\n",
    "\n",
    "* This is also called the **action value** of $a$. Here, $Q_n$ estimates of the action value after selecting this action $n-1$ times.\n",
    "\n",
    "* Using simple algebra we can modify the above formula for $Q_n$ into a more convenient form.\n",
    "\n",
    "$$\\begin{align}\n",
    "Q_{n+1} &= \\frac{R_1 + R_2 + R_3 + ... + R_{n}}{n} \\\\\n",
    "&= \\frac{R_1 + R_2 + R_3 + ... + R_{n-1}}{n-1} + \\frac{R_n}{n} \\\\\n",
    "&= \\frac{n-1}{n}\\cdot Q_n + \\frac{R_n}{n} \\\\\n",
    "&= Q_n + \\frac{1}{n}\\cdot (R_n-Q_n)\n",
    "\\end{align}$$\n",
    "\n",
    "* Remember that $Q_n$ is our estimate for the action value of $a$ before we take it for the $n^{th}$ time. When we observe the reward, $R_n$, it gives us another signal for the action value. We don't want to discard our previous observations, but we also want to update our estimate to reflect the new signal.\n",
    "\n",
    "* This means, we adjust our current estimate, $Q_n$, in the direction of the **error** that we calculate based on the latest observed reward, $R_n - Q_n$, with a **step size** of $1/n$ and obtain a new estimate, $Q_{n+1}$. This means, for example, if the latest observed reward is greater than our current estimate, we revise the action value estimate upward.\n",
    "\n",
    "* For convenience, we define $Q_0 = 0$.\n",
    "\n",
    "* Notice that the rate at which we adjust our estimate will get smaller as we make more observations due to the $1/n$ term. So, we put less weight on the most recent observations and our estimate for the action value for a particular action will settle down over time.\n",
    "\n",
    "* However, this might be a disadvantage if the environment is not stationary but is changing over time. In those cases, we would want to use a step size that does not diminish over time, such as a fixed step size of $\\alpha \\in (0,1)$.\n",
    "\n",
    "* Note that this step size must be smaller than 1 for the estimate to converge (and larger than 0 for a proper update).\n",
    "\n",
    "* Using a fixed value for $\\alpha$ will make the weights of the older observations decrease exponentially as we take action $\\alpha$ more and more.\n",
    "\n",
    "Let's bring $\\alpha$ back to the notation, so we can obtain our formula to update the action values:\n",
    "\n",
    "$$\n",
    "Q_{n+1}(a) = Q_n(a) + \\alpha (R_n(\\alpha) - Q_n(a))\n",
    "$$\n",
    "\n",
    "Here, is a number between 0 and 1. For stationary problems, we usually set $\\alpha = 1/N(a)$, where $N(a)$ is the number of times the action $a$ has been taken up to that point (which was denoted by $n$ initially). In stationary problems, this will help action values converge quicker, due to the diminishing $1/N(a)$ term, rather than chasing after noisy observations.\n",
    "\n",
    "That's all we need. Without further ado, let's implement an A/B/n test.\n",
    "\n",
    "## Application to the online advertising scenario\n",
    "\n",
    "In our example, we have five different ad versions, which we randomly show to the users with equal probabilities. Let's implement this in Python:\n",
    "\n",
    "**1. We start with creating the variables to keep track of the rewards in the experiment:**"
   ]
  },
  {
   "cell_type": "code",
   "execution_count": 7,
   "id": "dc827dd0",
   "metadata": {},
   "outputs": [],
   "source": [
    "n_test = 10000\n",
    "n_prod = 90000\n",
    "n_ads = len(ads)\n",
    "Q = np.zeros(n_ads)  # Q, action values\n",
    "N = np.zeros(n_ads)  # N, total impressions\n",
    "total_reward = 0\n",
    "avg_rewards = []  # Save average rewards over time"
   ]
  },
  {
   "cell_type": "code",
   "execution_count": 8,
   "id": "facabab9",
   "metadata": {},
   "outputs": [],
   "source": [
    "# A/B/n test\n",
    "for i in range(n_test):\n",
    "    ad_chosen = np.random.randint(n_ads)\n",
    "    R = ads[ad_chosen].display_ad()  # Observe reward\n",
    "    N[ad_chosen] += 1\n",
    "    Q[ad_chosen] += (1 / N[ad_chosen]) * (R - Q[ad_chosen])\n",
    "    total_reward += R\n",
    "    avg_reward_so_far = total_reward / (i + 1)\n",
    "    avg_rewards.append(avg_reward_so_far)"
   ]
  },
  {
   "cell_type": "code",
   "execution_count": 9,
   "id": "5396b3d6",
   "metadata": {},
   "outputs": [
    {
     "name": "stdout",
     "output_type": "stream",
     "text": [
      "The best performing ad is E\n"
     ]
    }
   ],
   "source": [
    "best_ad_index = np.argmax(Q)  # Find the best action\n",
    "print(\"The best performing ad is {}\".format(chr(ord('A') + best_ad_index)))"
   ]
  },
  {
   "cell_type": "code",
   "execution_count": 10,
   "id": "4a47841b",
   "metadata": {},
   "outputs": [],
   "source": [
    "ad_chosen = best_ad_index\n",
    "for i in range(n_prod):\n",
    "    R = ads[ad_chosen].display_ad()\n",
    "    total_reward += R\n",
    "    avg_reward_so_far = total_reward / (n_test + i + 1)\n",
    "    avg_rewards.append(avg_reward_so_far)"
   ]
  },
  {
   "cell_type": "code",
   "execution_count": 11,
   "id": "e5499c80",
   "metadata": {},
   "outputs": [],
   "source": [
    "import pandas as pd\n",
    "df_reward_comparison = pd.DataFrame(avg_rewards, columns=['A/B/n'])"
   ]
  },
  {
   "cell_type": "code",
   "execution_count": 19,
   "id": "3fe6e98a",
   "metadata": {},
   "outputs": [
    {
     "data": {
      "image/png": "[encoded data removed]",
      "text/plain": [
       "<Figure size 432x288 with 1 Axes>"
      ]
     },
     "metadata": {
      "needs_background": "light"
     },
     "output_type": "display_data"
    }
   ],
   "source": [
    "import matplotlib.pyplot as plt\n",
    "\n",
    "df_reward_comparison['A/B/n'].plot(title=\"A/B/n Test Avg. Reward: {:.4f}\"\n",
    "                                    .format(avg_reward_so_far))\n",
    "plt.xlabel(\"Impressions\")\n",
    "plt.ylabel(\"Avg. Reward\")\n",
    "plt.show()"
   ]
  },
  {
   "cell_type": "code",
   "execution_count": 24,
   "id": "a8a3e1e0",
   "metadata": {},
   "outputs": [
    {
     "data": {
      "text/plain": [
       "array([0.00693756, 0.01750875, 0.01469843, 0.02596106, 0.03338316])"
      ]
     },
     "execution_count": 24,
     "metadata": {},
     "output_type": "execute_result"
    }
   ],
   "source": [
    "print(Q)\n",
    "\n",
    "# Actual probabilities of rewards\n",
    "# adA = BernoulliBandit(0.004)\n",
    "# adB = BernoulliBandit(0.016)\n",
    "# adC = BernoulliBandit(0.02)\n",
    "# adD = BernoulliBandit(0.028)\n",
    "# adE = BernoulliBandit(0.031)"
   ]
  },
  {
   "cell_type": "markdown",
   "id": "f6e83f34",
   "metadata": {},
   "source": [
    "The model explores for the first 10000 steps. Once the estimated rewards for each ad are updated, the model picks the ad with highest estimated probability is shown for the next 90000 impressions to receive reward.\n",
    "\n",
    "It can be seen that the overall average reward for all the impressions converges with the actual reward for the add E"
   ]
  },
  {
   "cell_type": "markdown",
   "id": "008eff67",
   "metadata": {},
   "source": [
    "# Advantages and disadvantages of A/B/n testing\n",
    "\n",
    "* **A/B/n testing is inefficient as it does not modify the experiment dynamically by learning from the observations**. Instead, it explores in a fixed time budget with pre-determined probabilities of trying the alternatives. It fails to benefit from the early observations in the test by writing off/promoting an alternative even though it is obviously underperforming/outperforming the others.\n",
    "\n",
    "* **It is unable to correct a decision once it's made**. If, for some reason, the test period identifies an alternative as the best incorrectly (mostly because of a not-sufficiently long test duration), this selection remains fixed during the production period. So, there is no way to correct the decision for the rest of the deployment horizon.\n",
    "\n",
    "* **It is unable to adapt to changes in a dynamic environment**. Related to the previous note, this approach is especially problematic for environments that are not stationary. So, if the underlying reward distributions change over time, plain A/B/n testing has no way of detecting such changes after the selection is fixed.\n",
    "\n",
    "* **The length of the test period is a hyperparameter to tune, affecting the efficiency of the test**. If this period is chosen to be shorter than needed, an incorrect alternative could be declared the best because of the noise in the observations. If the test period is chosen to be too long, too much money gets wasted in exploration.\n",
    "\n",
    "* **A/B/n testing is simple**. Despite all these shortcomings, it is intuitive and easy to implement, and therefore widely used in practice.\n",
    "\n",
    "So, the vanilla A/B/n testing is a rather naive approach to MAB. Next, let's look into some other more advanced approaches that will overcome some of the shortcomings of A/B/n testing, starting with ε-greedy."
   ]
  },
  {
   "cell_type": "markdown",
   "id": "a97bf34f",
   "metadata": {},
   "source": [
    "# References\n",
    "\n",
    "* https://www.packtpub.com/product/mastering-reinforcement-learning-with-python/9781838644147"
   ]
  }
 ],
 "metadata": {
  "kernelspec": {
   "display_name": "Python 3 (ipykernel)",
   "language": "python",
   "name": "python3"
  },
  "language_info": {
   "codemirror_mode": {
    "name": "ipython",
    "version": 3
   },
   "file_extension": ".py",
   "mimetype": "text/x-python",
   "name": "python",
   "nbconvert_exporter": "python",
   "pygments_lexer": "ipython3",
   "version": "3.9.7"
  }
 },
 "nbformat": 4,
 "nbformat_minor": 5
}

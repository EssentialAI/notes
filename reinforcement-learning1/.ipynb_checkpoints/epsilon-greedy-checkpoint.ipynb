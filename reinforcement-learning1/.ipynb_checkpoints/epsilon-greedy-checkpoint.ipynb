{
 "cells": [
  {
   "cell_type": "markdown",
   "id": "452f670f",
   "metadata": {},
   "source": [
    "# Epsilon Greedy explained"
   ]
  },
  {
   "cell_type": "markdown",
   "id": "5aaee248",
   "metadata": {},
   "source": [
    "An easy-to-implement, effective, and widely used approach to the exploration-exploitation problem is what is called $\\epsilon$-greedy actions. This approach suggests, most of the time, greedily taking the action that is the best according to the rewards observed by that point in the experiment (that is, with 1-$\\epsilon$ probability); but once in a while (that is, with $\\epsilon$ probability), take a random action regardless of the action performances. Here, $\\epsilon$ is a number between 0 and 1, usually closer to zero (for example, 0.1) to \"exploit\" in most decisions. This way, the method allows continuous exploration of the alternative actions throughout the experiment.\n",
    "\n",
    "# Application to the online advertising scenario"
   ]
  },
  {
   "cell_type": "code",
   "execution_count": 38,
   "id": "03a763d7",
   "metadata": {},
   "outputs": [
    {
     "name": "stdout",
     "output_type": "stream",
     "text": [
      "The best performing ad with epsilon 0.1 is A\n",
      "No. of times optimal ad was shown is 8959\n",
      "No. of times explored: 994\n",
      "No. of times exploited: 9006\n",
      "The best performing ad with epsilon 0.01 is A\n",
      "No. of times optimal ad was shown is 9908\n",
      "No. of times explored: 93\n",
      "No. of times exploited: 9907\n",
      "The best performing ad with epsilon 0.03 is A\n",
      "No. of times optimal ad was shown is 9682\n",
      "No. of times explored: 306\n",
      "No. of times exploited: 9694\n"
     ]
    },
    {
     "data": {
      "image/png": "[encoded data removed]",
      "text/plain": [
       "<Figure size 432x288 with 1 Axes>"
      ]
     },
     "metadata": {
      "needs_background": "light"
     },
     "output_type": "display_data"
    }
   ],
   "source": [
    "import numpy as np\n",
    "import matplotlib.pyplot as plt\n",
    "\n",
    "class BernoulliBandit(object):\n",
    "    def __init__(self, p):\n",
    "        self.p = p\n",
    "    \n",
    "    def display_ad(self):\n",
    "        reward = np.random.binomial(n=1, p=self.p)\n",
    "        return reward\n",
    "    \n",
    "bandit_probs = [0.04, 0.016, 0.02, 0.028, 0.031] #These probabilities represent the reward distribution per each bandit (ad here).\n",
    "\n",
    "ads = [BernoulliBandit(i) for i in bandit_probs]\n",
    "\n",
    "n_trails = 10000\n",
    "n_ads = len(ads)\n",
    "epsilons = [0.1, 0.01, 0.03]\n",
    "\n",
    "\n",
    "for epsilon in epsilons:\n",
    "    n_optimal_pulls = 0\n",
    "    n_explored = 0\n",
    "    n_exploited = 0\n",
    "    Q = np.zeros(n_ads)  # Q, action values\n",
    "    N = np.zeros(n_ads)  # N, total impressions\n",
    "    total_reward = 0\n",
    "    avg_rewards = []  # Save average rewards over time\n",
    "\n",
    "    for i in range(n_trails):\n",
    "        p = np.random.random()\n",
    "        if p < epsilon:\n",
    "            n_explored+=1\n",
    "            ad_chosen = np.random.randint(n_ads)\n",
    "        else:\n",
    "            ad_chosen = np.argmax(Q)\n",
    "            n_exploited+=1\n",
    "        \n",
    "        if ad_chosen == np.argmax(bandit_probs):\n",
    "                n_optimal_pulls +=1\n",
    "\n",
    "        R = ads[ad_chosen].display_ad()  # Observe reward\n",
    "        N[ad_chosen] += 1\n",
    "        Q[ad_chosen] += (1 / N[ad_chosen]) * (R - Q[ad_chosen])\n",
    "        total_reward += R\n",
    "        avg_reward_so_far = total_reward / (i + 1)\n",
    "        avg_rewards.append(avg_reward_so_far)\n",
    "\n",
    "    best_ad_index = np.argmax(Q)  # Find the best action\n",
    "    print(\"The best performing ad with epsilon {} is {}\".format(epsilon, chr(ord('A') + best_ad_index)))\n",
    "    print(\"No. of times optimal ad was shown is\", n_optimal_pulls)\n",
    "    print(\"No. of times explored:\", n_explored)\n",
    "    print(\"No. of times exploited:\", n_exploited)\n",
    "    \n",
    "    df_reward_comparison = pd.DataFrame(avg_rewards, columns=['A/B/n'])\n",
    "    df_reward_comparison['A/B/n'].plot(title=\"A/B/n Test Avg. Reward: {:.4f}\"\n",
    "                                    .format(avg_reward_so_far), label = \"Epsilon: {}\".format(epsilon))\n",
    "    plt.xlabel(\"Impressions\")\n",
    "    plt.ylabel(\"Avg. Reward\")\n",
    "    plt.xscale('log')\n",
    "plt.legend()\n",
    "plt.show()"
   ]
  },
  {
   "cell_type": "markdown",
   "id": "47dbe94c",
   "metadata": {},
   "source": [
    "From the above graph it is very clear that, with higher epsilon value, the agent explores more. While all the agents with different epsilon values converge to the similar final average reward and decide on the same best performing ad, the difference in the time taken for convergence is significant.\n",
    "\n",
    "The number of optimal pulls (once converged) is significantly more for lower epsilon values. On the other hand, the noise (fluctuations) in case of epsilon=0.1 are significantly more."
   ]
  },
  {
   "cell_type": "markdown",
   "id": "b5937906",
   "metadata": {},
   "source": [
    "# Advantages and disadvantages of $\\epsilon$-greedy actions"
   ]
  },
  {
   "cell_type": "markdown",
   "id": "78bd6ad8",
   "metadata": {},
   "source": [
    "* **ε-greedy actions and A/B/n tests are similarly inefficient and static in allocating the exploration budget**. The ε-greedy approach, too, fails to write off actions that are clearly bad and continues to allocate the same exploration budget to each alternative. For example, halfway through the experiment, it is pretty clear that ad A is performing pretty poorly. It would have been more efficient to use the exploration budget to try to differentiate between the rest of the alternatives to identify the best. On a related note, if a particular action is under-explored/over-explored at any point, the exploration budget is not adjusted accordingly.\n",
    "\n",
    "One potential solution to this problem can be the use of decaying epsilon where epsilon is a function of time step.\n",
    "\n",
    "$$\n",
    "\\epsilon(t) \\propto 1/t, \\enspace \\epsilon(t) = max(\\epsilon_0-kt, \\epsilon_{min}), \\enspace \\epsilon(t) = \\epsilon_0 \\alpha^t, \\enspace \\epsilon(t)=\\frac{a}{log(bt+c)}\n",
    "$$\n",
    "\n",
    "where $t$ is the time step.\n",
    "\n",
    "* **With ε-greedy actions, exploration is continuous, unlike in A/B/n testing**. This means if the environment is not stationary, the ε-greedy approach has the potential to pick up the changes and modify its selection of the best alternative. In stationary environments, though, we can expect the A/B/n testing and the ε-greedy approach to perform similarly since they are very similar in nature, except when they do the exploration.\n",
    "\n",
    "* **The ε-greedy actions approach could be made more efficient by dynamically changing the ε value**. For example, you could start with a high ε value to explore more at the beginning and gradually decrease it to exploit more later. This way, there is still continuous exploration, but not as much as at the beginning when there was no knowledge of the environment.\n",
    "\n",
    "* **The ε-greedy actions approach could be made more dynamic by increasing the importance of more recent observations**. In the standard version, the values in the preceding are calculated as simple averages. Remember that, in dynamic environments, we could instead use the following formula:\n",
    "\n",
    "$$Q_{n+1}(a) = Q_n(a)+\\alpha (R_n(a)-Q_n(a))$$\n",
    "\n",
    "This would exponentially diminish the weights of the older observations and enable the approach to detect the changes in the environment more easily.\n",
    "\n",
    "* **Modifying the ε-greedy actions approach introduces new hyperparameters, which need to be tuned**. Both of the previous suggestions – gradually diminishing ε and using exponential smoothing for Q – come with additional hyperparameters, and it may not be obvious what values to set these to. Moreover, incorrect selection of these hyperparameters may lead to worse results than what the standard version would yield.\n",
    "\n",
    "Keep in mind that ε-greedy actions are still too static, and we can do better. Consecutive sections discuss methods that improve upon ε-greedy."
   ]
  },
  {
   "cell_type": "markdown",
   "id": "e0591514",
   "metadata": {},
   "source": [
    "# References\n",
    "\n",
    "* https://www.packtpub.com/product/mastering-reinforcement-learning-with-python/9781838644147\n",
    "\n",
    "_This entire page is a chapter referenced from the above link. EssentialAI does not claim ownership of the content in any way._"
   ]
  }
 ],
 "metadata": {
  "kernelspec": {
   "display_name": "Python 3 (ipykernel)",
   "language": "python",
   "name": "python3"
  },
  "language_info": {
   "codemirror_mode": {
    "name": "ipython",
    "version": 3
   },
   "file_extension": ".py",
   "mimetype": "text/x-python",
   "name": "python",
   "nbconvert_exporter": "python",
   "pygments_lexer": "ipython3",
   "version": "3.9.7"
  }
 },
 "nbformat": 4,
 "nbformat_minor": 5
}

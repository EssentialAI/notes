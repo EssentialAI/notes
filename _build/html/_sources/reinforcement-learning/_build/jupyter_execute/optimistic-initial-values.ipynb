{
 "cells": [
  {
   "cell_type": "markdown",
   "id": "d846230d",
   "metadata": {},
   "source": [
    "# Optimistic initial values\n",
    "\n",
    "Optimistic intial values method is a simple modification to the purely greedy algorithm. To use optimistic initial values, we do not require any epsilon value or random exploration.\n",
    "\n",
    "Recall from the [previous bandit examples](ab-testing.html#notation) that, we update our current estimate of the reward (Q value) based on the previous estimate. The initial values of these reward estimates are set to be 0 (see code from [ab-testing](ab-testing.ipynb)). The optimistic values method on the other hand initializes these initial estimates to be a very large value. In this way, we overestimate the mean estimate.\n",
    "\n",
    "Once the estimates are initialized, we do not perform any exploration of any kind, we just choose the bandit with the highest estimate of reward (Q) at the time step."
   ]
  },
  {
   "cell_type": "code",
   "execution_count": 16,
   "id": "f0b03075",
   "metadata": {},
   "outputs": [
    {
     "name": "stdout",
     "output_type": "stream",
     "text": [
      "No. of times optimal bandit was pulled 9925\n",
      "Q values [0.40167238 0.38461538 0.38461538 0.38461538]\n"
     ]
    },
    {
     "data": {
      "image/png": "[encoded data removed]",
      "text/plain": [
       "<Figure size 432x288 with 1 Axes>"
      ]
     },
     "metadata": {
      "filenames": {
       "image/png": "C:\\Users\\nares\\Downloads\\Spring-2023\\reinforcement-learning\\_build\\jupyter_execute\\optimistic-initial-values_1_1.png"
      },
      "needs_background": "light"
     },
     "output_type": "display_data"
    }
   ],
   "source": [
    "# Optimistic initial values in code\n",
    "\n",
    "import numpy as np\n",
    "import matplotlib.pyplot as plt\n",
    "import pandas as pd\n",
    "\n",
    "class BernoulliBandit(object):\n",
    "    def __init__(self, p):\n",
    "        self.p = p\n",
    "    \n",
    "    def display_ad(self):\n",
    "        reward = np.random.binomial(n=1, p=self.p)\n",
    "        return reward\n",
    "    \n",
    "bandit_probs = [0.4, 0.016, 0.02, 0.028, 0.031] #These probabilities represent the reward distribution per each bandit (ad here).\n",
    "\n",
    "ads = [BernoulliBandit(i) for i in bandit_probs]\n",
    "\n",
    "n_trails = 10000\n",
    "n_ads = len(ads)\n",
    "\n",
    "n_optimal_pulls = 0\n",
    "Q = np.array([10., 10., 10., 10.])  # Intializing bandit probs to a very high value\n",
    "N = np.ones(n_ads)  # N, total impressions\n",
    "total_reward = 0\n",
    "avg_rewards = []  # Save average rewards over time\n",
    "\n",
    "for i in range(n_trails):\n",
    "    ad_chosen = np.argmax(Q)\n",
    "\n",
    "    if ad_chosen == np.argmax(bandit_probs):\n",
    "            n_optimal_pulls +=1\n",
    "\n",
    "    R = ads[ad_chosen].display_ad()  # Observe reward\n",
    "    N[ad_chosen] += 1\n",
    "    Q[ad_chosen] += (1 / N[ad_chosen]) * (R - Q[ad_chosen])\n",
    "    total_reward += R\n",
    "    avg_reward_so_far = total_reward / (i + 1)\n",
    "    avg_rewards.append(avg_reward_so_far)\n",
    "\n",
    "best_ad_index = np.argmax(Q)  # Find the best action\n",
    "print(\"No. of times optimal bandit was pulled\", n_optimal_pulls)\n",
    "print(\"Q values\", Q)\n",
    "\n",
    "\n",
    "df_reward_comparison = pd.DataFrame(avg_rewards, columns=['A/B/n'])\n",
    "df_reward_comparison['A/B/n'].plot(title=\"A/B/n Test Avg. Reward: {:.4f}\"\n",
    "                                .format(avg_reward_so_far))\n",
    "plt.xlabel(\"Impressions\")\n",
    "plt.ylabel(\"Avg. Reward\")\n",
    "plt.xscale('log')\n",
    "plt.legend()\n",
    "plt.show()"
   ]
  },
  {
   "cell_type": "markdown",
   "id": "f0068294",
   "metadata": {},
   "source": [
    "One important thing to notice from the above results is that, **not all the estimates converge to their actual values**. This happens when the estimated value of a bandit is lower than the actual true estimate of another bandit. This is due to the fact that we perform greedy action at every step and the bandits with lower probability estimates are not chosen at all.\n",
    "\n",
    "Optimistic initial values inherently allows exploration to happen by initializing return estimates of each bandit to a large value.\n",
    "\n",
    "$$\n",
    "\\text{Value of optimistic value} \\propto \\text{exploration}$$\n",
    "\n",
    "**As a matter of fact, the estimated value for the optimal bandit might not even converge as there is a chance that the initial value can be very high while the number of steps can be very low to allow the model to converge. This is a disadvantage of Optimistic initial values method.**"
   ]
  },
  {
   "cell_type": "code",
   "execution_count": null,
   "id": "2f095f1b",
   "metadata": {},
   "outputs": [],
   "source": []
  }
 ],
 "metadata": {
  "kernelspec": {
   "display_name": "Python 3 (ipykernel)",
   "language": "python",
   "name": "python3"
  },
  "language_info": {
   "codemirror_mode": {
    "name": "ipython",
    "version": 3
   },
   "file_extension": ".py",
   "mimetype": "text/x-python",
   "name": "python",
   "nbconvert_exporter": "python",
   "pygments_lexer": "ipython3",
   "version": "3.9.7"
  }
 },
 "nbformat": 4,
 "nbformat_minor": 5
}